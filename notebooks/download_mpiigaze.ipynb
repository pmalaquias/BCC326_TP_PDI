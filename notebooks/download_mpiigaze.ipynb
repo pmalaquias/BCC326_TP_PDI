{
 "cells": [
  {
   "cell_type": "code",
   "execution_count": 1,
   "id": "bed9bca6",
   "metadata": {},
   "outputs": [
    {
     "name": "stdout",
     "output_type": "stream",
     "text": [
      "Arquivos do MPIIGaze copiados para a raiz do projeto com sucesso!\n"
     ]
    }
   ],
   "source": [
    "import os\n",
    "import shutil\n",
    "\n",
    "# 1. Defina o caminho do cache do Kaggle\n",
    "# (Este caminho é o que o seu código de download retornou)\n",
    "path_cache_kaggle = r\"C:\\Users\\pedro\\.cache\\kagglehub\\datasets\\dhruv413\\mpiigaze\\versions\\1\"\n",
    "\n",
    "# 2. Defina a pasta de destino na raiz do seu projeto\n",
    "path_destino = \"mpiigaze_real\"\n",
    "\n",
    "# Crie a pasta de destino se ela não existir\n",
    "if not os.path.exists(path_destino):\n",
    "    os.makedirs(path_destino)\n",
    "\n",
    "# 3. Copie os arquivos da pasta de cache para a pasta do seu projeto\n",
    "# O 'shutil.copytree' é usado para copiar todo o diretório de dados\n",
    "# do MPIIGaze que está dentro do cache.\n",
    "source_dir = os.path.join(path_cache_kaggle, 'MPIIGaze')\n",
    "destination_dir = os.path.join(path_destino, 'MPIIGaze')\n",
    "\n",
    "if os.path.exists(source_dir):\n",
    "    # Remove o diretório de destino se já existir\n",
    "    if os.path.exists(destination_dir):\n",
    "        shutil.rmtree(destination_dir)\n",
    "    \n",
    "    # Copia a estrutura de diretórios do cache para o projeto\n",
    "    shutil.copytree(source_dir, destination_dir)\n",
    "    print(\"Arquivos do MPIIGaze copiados para a raiz do projeto com sucesso!\")\n",
    "else:\n",
    "    print(f\"Erro: O diretório de origem '{source_dir}' não foi encontrado.\")\n",
    "\n",
    "# 4. (Opcional) Limpe o arquivo zip baixado se estiver na raiz\n",
    "if os.path.exists('mpiigaze.zip'):\n",
    "    os.remove('mpiigaze.zip')"
   ]
  }
 ],
 "metadata": {
  "kernelspec": {
   "display_name": "base",
   "language": "python",
   "name": "python3"
  },
  "language_info": {
   "codemirror_mode": {
    "name": "ipython",
    "version": 3
   },
   "file_extension": ".py",
   "mimetype": "text/x-python",
   "name": "python",
   "nbconvert_exporter": "python",
   "pygments_lexer": "ipython3",
   "version": "3.13.5"
  }
 },
 "nbformat": 4,
 "nbformat_minor": 5
}
