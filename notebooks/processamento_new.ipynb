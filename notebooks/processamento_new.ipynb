{
 "cells": [
  {
   "cell_type": "code",
   "execution_count": 1,
   "id": "e7710699",
   "metadata": {},
   "outputs": [
    {
     "name": "stderr",
     "output_type": "stream",
     "text": [
      "2025-08-11 15:13:23.726920: I tensorflow/core/platform/cpu_feature_guard.cc:210] This TensorFlow binary is optimized to use available CPU instructions in performance-critical operations.\n",
      "To enable the following instructions: AVX2 FMA, in other operations, rebuild TensorFlow with the appropriate compiler flags.\n"
     ]
    },
    {
     "ename": "AttributeError",
     "evalue": "'MessageFactory' object has no attribute 'GetPrototype'",
     "output_type": "error",
     "traceback": [
      "\u001b[31m---------------------------------------------------------------------------\u001b[39m",
      "\u001b[31mAttributeError\u001b[39m                            Traceback (most recent call last)",
      "\u001b[31mAttributeError\u001b[39m: 'MessageFactory' object has no attribute 'GetPrototype'"
     ]
    }
   ],
   "source": [
    "import os\n",
    "import numpy as np\n",
    "import pandas as pd\n",
    "import cv2\n",
    "import json\n",
    "from sklearn.model_selection import train_test_split\n",
    "import tensorflow as tf\n",
    "from tensorflow.keras.models import Sequential\n",
    "from tensorflow.keras.layers import TimeDistributed, Conv2D, MaxPooling2D, Flatten, LSTM, Dense\n",
    "from tensorflow.keras.callbacks import EarlyStopping"
   ]
  },
  {
   "cell_type": "code",
   "execution_count": null,
   "id": "6f9577cf",
   "metadata": {},
   "outputs": [],
   "source": [
    "# --- Configurações de Caminho ---\n",
    "CAMINHO_BASE = '..'\n",
    "DATA_DIR = os.path.join(CAMINHO_BASE, 'UnityEyes_Windows', 'imgs')\n",
    "LABELS_FILE = os.path.join('..', 'output', 'gaze_labels.csv')\n",
    "\n",
    "output_dir_sequences = 'processed_sequences'\n",
    "MODELO_SALVO = os.path.join(CAMINHO_BASE, 'models', 'gaze_attention_model.keras')\n",
    "\n",
    "MPIIGAZE_PATH = os.path.join(CAMINHO_BASE, 'mpiigaze_real', 'MPIIGaze')"
   ]
  },
  {
   "cell_type": "code",
   "execution_count": 4,
   "id": "3c2b594d",
   "metadata": {},
   "outputs": [
    {
     "name": "stdout",
     "output_type": "stream",
     "text": [
      "DATA_DIR: ../UnityEyes_Windows/imgs - Existe? True\n",
      "LABELS_FILE: ../output/gaze_labels.csv - Existe? True\n",
      "output_dir_sequences: processed_sequences - Existe? False\n",
      "MODELO_SALVO: ../models/gaze_attention_model.keras - Existe? True\n",
      "MPIIGAZE_PATH: ../mpiigaze_real/MPIIGaze - Existe? True\n"
     ]
    }
   ],
   "source": [
    "# Verificação dos caminhos principais antes de continuar\n",
    "print(f\"DATA_DIR: {DATA_DIR} - Existe? {os.path.exists(DATA_DIR)}\")\n",
    "print(f\"LABELS_FILE: {LABELS_FILE} - Existe? {os.path.exists(LABELS_FILE)}\")\n",
    "print(f\"output_dir_sequences: {output_dir_sequences} - Existe? {os.path.exists(output_dir_sequences)}\")\n",
    "print(f\"MODELO_SALVO: {MODELO_SALVO} - Existe? {os.path.exists(MODELO_SALVO)}\")\n",
    "print(f\"MPIIGAZE_PATH: {MPIIGAZE_PATH} - Existe? {os.path.exists(MPIIGAZE_PATH)}\")\n",
    "\n",
    "# Se algum caminho não existir, interrompe o notebook\n",
    "if not all([os.path.exists(DATA_DIR), os.path.exists(LABELS_FILE), os.path.exists(MPIIGAZE_PATH)]):\n",
    "    raise FileNotFoundError('Um ou mais caminhos necessários não existem. Verifique os diretórios e arquivos antes de continuar.')"
   ]
  },
  {
   "cell_type": "code",
   "execution_count": 5,
   "id": "2a000b01",
   "metadata": {},
   "outputs": [],
   "source": [
    "IMG_SIZE = (64, 64) # Tamanho da imagem redimensionada\n",
    "TIME_WINDOW = 10 # Número de frames por sequência"
   ]
  },
  {
   "cell_type": "code",
   "execution_count": 6,
   "id": "f1347bb8",
   "metadata": {},
   "outputs": [
    {
     "name": "stdout",
     "output_type": "stream",
     "text": [
      "Carregando o arquivo de rótulos...\n",
      "CSV de rótulos carregado com sucesso!\n"
     ]
    }
   ],
   "source": [
    "# --- 1. Carregar os rótulos do arquivo CSV ---\n",
    "print(\"Carregando o arquivo de rótulos...\")\n",
    "try:\n",
    "    labels_df = pd.read_csv(LABELS_FILE)\n",
    "    print(\"CSV de rótulos carregado com sucesso!\")\n",
    "except FileNotFoundError:\n",
    "    print(f\"Erro: O arquivo de rótulos '{LABELS_FILE}' não foi encontrado. Verifique o caminho.\")\n",
    "    exit()"
   ]
  },
  {
   "cell_type": "code",
   "execution_count": 12,
   "id": "85e6cc39",
   "metadata": {},
   "outputs": [
    {
     "name": "stdout",
     "output_type": "stream",
     "text": [
      "Carregando e pré-processando as imagens...\n",
      "Dataset original:\n",
      "  Total: 272879 imagens\n",
      "  Distribuição: {0: 248909, 1: 23970}\n",
      "\n",
      "Classe 0 (sem atenção): 248909 amostras\n",
      "Classe 1 (com atenção): 23970 amostras\n",
      "\n",
      "Amostragem target:\n",
      "  Classe 0: 7000 amostras\n",
      "  Classe 1: 3000 amostras\n",
      "  Total: 10000 amostras\n",
      "\n",
      "Dataset balanceado criado:\n",
      "  Total: 10000 imagens\n",
      "  Distribuição: {0: 7000, 1: 3000}\n",
      "  Proporção classe 1: 30.00%\n",
      "Processadas 0 imagens...\n",
      "Processadas 1000 imagens...\n",
      "Processadas 2000 imagens...\n",
      "Processadas 3000 imagens...\n",
      "Processadas 4000 imagens...\n",
      "Processadas 5000 imagens...\n",
      "Processadas 6000 imagens...\n",
      "Processadas 7000 imagens...\n",
      "Processadas 8000 imagens...\n",
      "Processadas 9000 imagens...\n",
      "\n",
      "Pré-processamento concluído:\n",
      "  Imagens processadas: 10000\n",
      "  Imagens ignoradas: 0\n",
      "  Distribuição final: {np.int64(0): np.int64(7000), np.int64(1): np.int64(3000)}\n",
      "    Classe 0: 7000 amostras (70.0%)\n",
      "    Classe 1: 3000 amostras (30.0%)\n"
     ]
    }
   ],
   "source": [
    "# --- 2. Carregar e pré-processar as imagens associadas aos rótulos (VERSÃO CORRIGIDA) ---\n",
    "print(\"Carregando e pré-processando as imagens...\")\n",
    "all_images = []\n",
    "all_labels = []\n",
    "\n",
    "# --- CORREÇÃO PRINCIPAL: Amostragem balanceada em vez de pegar apenas as primeiras ---\n",
    "num_images_to_process = 10000\n",
    "target_balance_ratio = 0.3  # 30% com atenção, 70% sem atenção (mais realista)\n",
    "\n",
    "print(f\"Dataset original:\")\n",
    "print(f\"  Total: {len(labels_df)} imagens\")\n",
    "print(f\"  Distribuição: {labels_df['attention'].value_counts().to_dict()}\")\n",
    "\n",
    "# Separar por classe\n",
    "class_0_data = labels_df[labels_df['attention'] == 0]\n",
    "class_1_data = labels_df[labels_df['attention'] == 1]\n",
    "\n",
    "print(f\"\\nClasse 0 (sem atenção): {len(class_0_data)} amostras\")\n",
    "print(f\"Classe 1 (com atenção): {len(class_1_data)} amostras\")\n",
    "\n",
    "# Calcular quantas amostras de cada classe queremos\n",
    "num_class_1 = min(int(num_images_to_process * target_balance_ratio), len(class_1_data))\n",
    "num_class_0 = min(num_images_to_process - num_class_1, len(class_0_data))\n",
    "\n",
    "print(f\"\\nAmostragem target:\")\n",
    "print(f\"  Classe 0: {num_class_0} amostras\")\n",
    "print(f\"  Classe 1: {num_class_1} amostras\")\n",
    "print(f\"  Total: {num_class_0 + num_class_1} amostras\")\n",
    "\n",
    "# Fazer amostragem aleatória balanceada\n",
    "sampled_class_0 = class_0_data.sample(n=num_class_0, random_state=42)\n",
    "sampled_class_1 = class_1_data.sample(n=num_class_1, random_state=42)\n",
    "\n",
    "# Combinar e embaralhar\n",
    "labels_df_subset = pd.concat([sampled_class_0, sampled_class_1]).sample(frac=1, random_state=42).reset_index(drop=True)\n",
    "\n",
    "print(f\"\\nDataset balanceado criado:\")\n",
    "print(f\"  Total: {len(labels_df_subset)} imagens\")\n",
    "print(f\"  Distribuição: {labels_df_subset['attention'].value_counts().to_dict()}\")\n",
    "print(f\"  Proporção classe 1: {labels_df_subset['attention'].mean():.2%}\")\n",
    "\n",
    "# --- FIM DA CORREÇÃO ---\n",
    "\n",
    "if not os.path.exists(DATA_DIR):\n",
    "    print(f\"Erro: O diretório de imagens '{DATA_DIR}' não foi encontrado.\")\n",
    "else:\n",
    "    # Processar as imagens do subset balanceado\n",
    "    processed_count = 0\n",
    "    skipped_count = 0\n",
    "    \n",
    "    for index, row in labels_df_subset.iterrows():\n",
    "        image_filename = row['image_filename']\n",
    "        file_path = os.path.join(DATA_DIR, image_filename)\n",
    "        \n",
    "        # Reduzir prints para não poluir a saída\n",
    "        if processed_count % 1000 == 0:\n",
    "            print(f\"Processadas {processed_count} imagens...\")\n",
    "        \n",
    "        if os.path.exists(file_path):\n",
    "            img = cv2.imread(file_path)\n",
    "            if img is not None:\n",
    "                img_resized = cv2.resize(img, IMG_SIZE)\n",
    "                img_normalized = img_resized.astype('float32') / 255.0\n",
    "                all_images.append(img_normalized)\n",
    "                all_labels.append(row['attention'])\n",
    "                processed_count += 1\n",
    "            else:\n",
    "                skipped_count += 1\n",
    "        else:\n",
    "            print(f\"Aviso: Imagem não encontrada: {file_path}\")\n",
    "            skipped_count += 1\n",
    "\n",
    "    images_array = np.array(all_images)\n",
    "    labels_array = np.array(all_labels)\n",
    "\n",
    "    print(f\"\\nPré-processamento concluído:\")\n",
    "    print(f\"  Imagens processadas: {len(images_array)}\")\n",
    "    print(f\"  Imagens ignoradas: {skipped_count}\")\n",
    "    \n",
    "    # Verificar distribuição final\n",
    "    unique_labels, counts = np.unique(labels_array, return_counts=True)\n",
    "    distribution = dict(zip(unique_labels, counts))\n",
    "    print(f\"  Distribuição final: {distribution}\")\n",
    "    \n",
    "    for label, count in distribution.items():\n",
    "        percentage = (count / len(labels_array)) * 100\n",
    "        print(f\"    Classe {label}: {count} amostras ({percentage:.1f}%)\")\n",
    "\n",
    "    if len(images_array) == 0:\n",
    "        print(\"Nenhuma imagem foi processada. Verifique se o caminho do diretório 'DATA_DIR' está correto e se as imagens existem.\")\n",
    "        exit()"
   ]
  },
  {
   "cell_type": "code",
   "execution_count": 17,
   "id": "95ad5c7e",
   "metadata": {},
   "outputs": [
    {
     "name": "stdout",
     "output_type": "stream",
     "text": [
      "Lotes removidos.\n",
      "Criando sequências de dados em lotes...\n",
      "IMPORTANTE: Usando janelas não-sobrepostas para evitar data leakage.\n",
      "Sequências possíveis com sobreposição: 9991\n",
      "Sequências sem sobreposição: 1000\n",
      "Criadas 500 sequências...\n",
      "Criadas 1000 sequências...\n",
      "Salvando lote 0 com 1000 amostras.\n",
      "  Distribuição do lote 0: {np.int64(0): np.int64(379), np.int64(1): np.int64(621)}\n",
      "Processamento em lotes concluído. 1 lotes criados.\n",
      "Total de sequências criadas: 1000\n",
      "Distribuição final das sequências: {np.int64(0): np.int64(379), np.int64(1): np.int64(621)}\n"
     ]
    }
   ],
   "source": [
    "import shutil\n",
    "if os.path.exists(output_dir_sequences):\n",
    "    shutil.rmtree(output_dir_sequences)\n",
    "    print(\"Lotes removidos.\")\n",
    "\n",
    "# --- 3. Agrupar em sequências e salvar em lotes ---\n",
    "print(\"Criando sequências de dados em lotes...\")\n",
    "\n",
    "# Define o tamanho do lote para a criação das sequências.\n",
    "BATCH_SIZE_SEQUENCE = 2000\n",
    "\n",
    "# Caminho para salvar os arquivos de sequência temporários\n",
    "output_dir_sequences = 'processed_sequences'\n",
    "\n",
    "# Adicione a verificação aqui\n",
    "if os.path.exists(output_dir_sequences) and len(os.listdir(output_dir_sequences)) > 0:\n",
    "    print(f\"Lotes de sequências já existem em '{output_dir_sequences}'. Pulando o processamento.\")\n",
    "else:\n",
    "    if not os.path.exists(output_dir_sequences):\n",
    "        os.makedirs(output_dir_sequences)\n",
    "\n",
    "    # Armazena os dados do lote atual\n",
    "    current_batch_data = []\n",
    "    current_batch_labels = []\n",
    "    batch_counter = 0\n",
    "    \n",
    "    print(\"IMPORTANTE: Usando janelas não-sobrepostas para evitar data leakage.\")\n",
    "    \n",
    "    # CORREÇÃO PRINCIPAL: Usar step=TIME_WINDOW para evitar sobreposição\n",
    "    total_possible_sequences = (len(images_array) - TIME_WINDOW + 1)\n",
    "    non_overlapping_sequences = len(images_array) // TIME_WINDOW\n",
    "    \n",
    "    print(f\"Sequências possíveis com sobreposição: {total_possible_sequences}\")\n",
    "    print(f\"Sequências sem sobreposição: {non_overlapping_sequences}\")\n",
    "    \n",
    "    sequence_count = 0\n",
    "    \n",
    "    # Mudança crítica: step=TIME_WINDOW em vez de step=1\n",
    "    for i in range(0, len(images_array) - TIME_WINDOW + 1, TIME_WINDOW):\n",
    "        if i + TIME_WINDOW <= len(images_array):\n",
    "            sequence_images = images_array[i:i + TIME_WINDOW]\n",
    "            window_labels = labels_array[i:i + TIME_WINDOW]\n",
    "            \n",
    "            # Verificar se a janela tem rótulos válidos\n",
    "            if len(window_labels) == TIME_WINDOW:\n",
    "                sequence_label = 1 if np.mean(window_labels) > 0.2 else 0 \n",
    "                \n",
    "                current_batch_data.append(sequence_images)\n",
    "                current_batch_labels.append(sequence_label)\n",
    "                sequence_count += 1\n",
    "                \n",
    "                if sequence_count % 500 == 0:\n",
    "                    print(f\"Criadas {sequence_count} sequências...\")\n",
    "\n",
    "        # Quando o lote atual atingir o tamanho definido, salve-o\n",
    "        if len(current_batch_data) == BATCH_SIZE_SEQUENCE or i >= len(images_array) - TIME_WINDOW:\n",
    "            if len(current_batch_data) > 0:  # Só salva se tiver dados\n",
    "                print(f\"Salvando lote {batch_counter} com {len(current_batch_data)} amostras.\")\n",
    "                \n",
    "                X_batch = np.array(current_batch_data)\n",
    "                y_batch = np.array(current_batch_labels)\n",
    "                \n",
    "                # Verificar distribuição do lote atual\n",
    "                unique_batch, counts_batch = np.unique(y_batch, return_counts=True)\n",
    "                print(f\"  Distribuição do lote {batch_counter}: {dict(zip(unique_batch, counts_batch))}\")\n",
    "\n",
    "                # Salve os arrays em arquivos .npy\n",
    "                np.save(os.path.join(output_dir_sequences, f'X_batch_{batch_counter}.npy'), X_batch)\n",
    "                np.save(os.path.join(output_dir_sequences, f'y_batch_{batch_counter}.npy'), y_batch)\n",
    "\n",
    "                # Limpe a memória para o próximo lote\n",
    "                current_batch_data = []\n",
    "                current_batch_labels = []\n",
    "                batch_counter += 1\n",
    "\n",
    "    print(f\"Processamento em lotes concluído. {batch_counter} lotes criados.\")\n",
    "    print(f\"Total de sequências criadas: {sequence_count}\")\n",
    "    \n",
    "    # Verificar distribuição geral das sequências\n",
    "    if batch_counter > 0:\n",
    "        all_sequence_labels = []\n",
    "        for b in range(batch_counter):\n",
    "            y_batch = np.load(os.path.join(output_dir_sequences, f'y_batch_{b}.npy'))\n",
    "            all_sequence_labels.extend(y_batch)\n",
    "        \n",
    "        unique_seq, counts_seq = np.unique(all_sequence_labels, return_counts=True)\n",
    "        print(f\"Distribuição final das sequências: {dict(zip(unique_seq, counts_seq))}\")"
   ]
  },
  {
   "cell_type": "code",
   "execution_count": 18,
   "id": "1e424e06",
   "metadata": {},
   "outputs": [
    {
     "name": "stdout",
     "output_type": "stream",
     "text": [
      "Arquivos de lote encontrados: ['X_batch_0.npy']\n",
      "AVISO: Apenas 1 lotes encontrados. Isso pode não ser suficiente para uma divisão adequada.\n",
      "Com apenas 1 lote, todo o dataset será usado para treino.\n",
      "Total de lotes: 1\n",
      "Lotes para treino: 1 ([0])\n",
      "Lotes para validação: 0 ([])\n",
      "Lotes para teste: 0 ([])\n",
      "\n",
      "--- Distribuição dos dados por conjunto ---\n",
      "TREINO: 1000 amostras\n",
      "  Distribuição: {np.int64(0): np.int64(379), np.int64(1): np.int64(621)}\n",
      "  Percentuais: {np.int64(0): '37.9%', np.int64(1): '62.1%'}\n",
      "VALIDAÇÃO: Vazio\n",
      "TESTE: Vazio\n"
     ]
    }
   ],
   "source": [
    "# Carregar a lista de todos os arquivos de lote\n",
    "batch_files = sorted([f for f in os.listdir(output_dir_sequences) if f.startswith('X_batch_')])\n",
    "total_batches = len(batch_files)\n",
    "\n",
    "print(f\"Arquivos de lote encontrados: {batch_files}\")\n",
    "\n",
    "# Verificar se existem lotes suficientes para divisão\n",
    "if total_batches < 3:\n",
    "    print(f\"AVISO: Apenas {total_batches} lotes encontrados. Isso pode não ser suficiente para uma divisão adequada.\")\n",
    "    if total_batches == 1:\n",
    "        print(\"Com apenas 1 lote, todo o dataset será usado para treino.\")\n",
    "        train_batches_indices = np.array([0])\n",
    "        val_batches_indices = np.array([])\n",
    "        test_batches_indices = np.array([])\n",
    "    elif total_batches == 2:\n",
    "        print(\"Com apenas 2 lotes, usando 1 para treino e 1 para validação.\")\n",
    "        train_batches_indices = np.array([0])\n",
    "        val_batches_indices = np.array([1])\n",
    "        test_batches_indices = np.array([])\n",
    "else:\n",
    "    # Crie uma lista de índices para cada lote\n",
    "    batch_indices = np.arange(total_batches)\n",
    "    \n",
    "    # Divida os índices dos lotes em treino, validação e teste\n",
    "    train_batches_indices, temp_batches_indices = train_test_split(\n",
    "        batch_indices, test_size=0.3, random_state=42\n",
    "    )\n",
    "    val_batches_indices, test_batches_indices = train_test_split(\n",
    "        temp_batches_indices, test_size=0.5, random_state=42\n",
    "    )\n",
    "\n",
    "print(f\"Total de lotes: {total_batches}\")\n",
    "print(f\"Lotes para treino: {len(train_batches_indices)} ({train_batches_indices})\")\n",
    "print(f\"Lotes para validação: {len(val_batches_indices)} ({val_batches_indices})\")\n",
    "print(f\"Lotes para teste: {len(test_batches_indices)} ({test_batches_indices})\")\n",
    "\n",
    "# Verificar a distribuição dos dados em cada conjunto\n",
    "def check_data_distribution(batch_indices_list, set_name):\n",
    "    if len(batch_indices_list) == 0:\n",
    "        print(f\"{set_name}: Vazio\")\n",
    "        return\n",
    "    \n",
    "    total_samples = 0\n",
    "    all_labels = []\n",
    "    \n",
    "    for idx in batch_indices_list:\n",
    "        y_batch = np.load(os.path.join(output_dir_sequences, f'y_batch_{idx}.npy'))\n",
    "        total_samples += len(y_batch)\n",
    "        all_labels.extend(y_batch)\n",
    "    \n",
    "    if len(all_labels) > 0:\n",
    "        unique_labels, counts = np.unique(all_labels, return_counts=True)\n",
    "        distribution = dict(zip(unique_labels, counts))\n",
    "        percentages = {k: f\"{(v/total_samples)*100:.1f}%\" for k, v in distribution.items()}\n",
    "        \n",
    "        print(f\"{set_name}: {total_samples} amostras\")\n",
    "        print(f\"  Distribuição: {distribution}\")\n",
    "        print(f\"  Percentuais: {percentages}\")\n",
    "    else:\n",
    "        print(f\"{set_name}: Sem dados\")\n",
    "\n",
    "print(\"\\n--- Distribuição dos dados por conjunto ---\")\n",
    "check_data_distribution(train_batches_indices, \"TREINO\")\n",
    "check_data_distribution(val_batches_indices, \"VALIDAÇÃO\")\n",
    "check_data_distribution(test_batches_indices, \"TESTE\")"
   ]
  },
  {
   "cell_type": "code",
   "execution_count": 19,
   "id": "0cbc805c",
   "metadata": {},
   "outputs": [],
   "source": [
    "# --- 4. Gerador de Dados para o Treinamento (Otimizado) ---\n",
    "def data_generator_optimized(batch_indices_to_use, batch_size):\n",
    "    \"\"\"\n",
    "    Função geradora para carregar dados em mini-lotes para o treinamento.\n",
    "    \"\"\"\n",
    "    while True:\n",
    "        # Embaralha os índices dos lotes .npy a cada época\n",
    "        np.random.shuffle(batch_indices_to_use)\n",
    "        \n",
    "        for i in batch_indices_to_use:\n",
    "            # Carrega um lote completo da memória (X_batch, y_batch)\n",
    "            X_batch = np.load(os.path.join(output_dir_sequences, f'X_batch_{i}.npy'))\n",
    "            y_batch = np.load(os.path.join(output_dir_sequences, f'y_batch_{i}.npy'))\n",
    "            \n",
    "            # Embaralha os dados dentro do lote para evitar dependência de ordem\n",
    "            indices_in_batch = np.arange(len(X_batch))\n",
    "            np.random.shuffle(indices_in_batch)\n",
    "            \n",
    "            # Divida o lote em mini-lotes para o treinamento\n",
    "            for start in range(0, len(X_batch), batch_size):\n",
    "                end = start + batch_size\n",
    "                X_mini_batch = X_batch[indices_in_batch[start:end]]\n",
    "                y_mini_batch = y_batch[indices_in_batch[start:end]]\n",
    "                \n",
    "                # Use o 'yield' para entregar os mini-lotes para o modelo\n",
    "                yield X_mini_batch, y_mini_batch\n"
   ]
  },
  {
   "cell_type": "code",
   "execution_count": null,
   "id": "836d0bcb",
   "metadata": {},
   "outputs": [
    {
     "name": "stdout",
     "output_type": "stream",
     "text": [
      "\n",
      "Construindo o modelo CNN-LSTM...\n",
      "Input shape: (10, 64, 64, 3)\n",
      "Amostra do batch: (1000, 10, 64, 64, 3)\n",
      "Modelo construído com sucesso!\n"
     ]
    },
    {
     "name": "stderr",
     "output_type": "stream",
     "text": [
      "/nix/store/d6pa8zvmqqmnbvdvw0m5kxhgf8c088j9-python3-3.12.11-env/lib/python3.12/site-packages/keras/src/layers/core/wrapper.py:27: UserWarning: Do not pass an `input_shape`/`input_dim` argument to a layer. When using Sequential models, prefer using an `Input(shape)` object as the first layer in the model instead.\n",
      "  super().__init__(**kwargs)\n"
     ]
    }
   ],
   "source": [
    "# --- 5. Construir o modelo CNN-LSTM ---\n",
    "print(\"\\nConstruindo o modelo CNN-LSTM...\")\n",
    "\n",
    "from tensorflow.keras.layers import Dropout\n",
    "\n",
    "X_sample = np.load(os.path.join(output_dir_sequences, f'X_batch_{train_batches_indices[0]}.npy'))\n",
    "input_shape = X_sample.shape[1:]\n",
    "\n",
    "print(f\"Input shape: {input_shape}\")\n",
    "print(f\"Amostra do batch: {X_sample.shape}\")\n",
    "\n",
    "model = Sequential([\n",
    "    TimeDistributed(Conv2D(32, (3, 3), activation='relu'), input_shape=input_shape),\n",
    "    TimeDistributed(MaxPooling2D((2, 2))),\n",
    "    TimeDistributed(Dropout(0.25)),  \n",
    "    TimeDistributed(Conv2D(64, (3, 3), activation='relu')),\n",
    "    TimeDistributed(MaxPooling2D((2, 2))),\n",
    "    TimeDistributed(Dropout(0.25)),\n",
    "    TimeDistributed(Flatten()),\n",
    "    LSTM(64, dropout=0.2, recurrent_dropout=0.2),\n",
    "    Dense(1, activation='sigmoid')\n",
    "])\n",
    "\n",
    "print(\"Modelo construído com sucesso!\")"
   ]
  },
  {
   "cell_type": "code",
   "execution_count": 21,
   "id": "9940ba3a",
   "metadata": {},
   "outputs": [
    {
     "data": {
      "text/html": [
       "<pre style=\"white-space:pre;overflow-x:auto;line-height:normal;font-family:Menlo,'DejaVu Sans Mono',consolas,'Courier New',monospace\"><span style=\"font-weight: bold\">Model: \"sequential\"</span>\n",
       "</pre>\n"
      ],
      "text/plain": [
       "\u001b[1mModel: \"sequential\"\u001b[0m\n"
      ]
     },
     "metadata": {},
     "output_type": "display_data"
    },
    {
     "data": {
      "text/html": [
       "<pre style=\"white-space:pre;overflow-x:auto;line-height:normal;font-family:Menlo,'DejaVu Sans Mono',consolas,'Courier New',monospace\">┏━━━━━━━━━━━━━━━━━━━━━━━━━━━━━━━━━┳━━━━━━━━━━━━━━━━━━━━━━━━┳━━━━━━━━━━━━━━━┓\n",
       "┃<span style=\"font-weight: bold\"> Layer (type)                    </span>┃<span style=\"font-weight: bold\"> Output Shape           </span>┃<span style=\"font-weight: bold\">       Param # </span>┃\n",
       "┡━━━━━━━━━━━━━━━━━━━━━━━━━━━━━━━━━╇━━━━━━━━━━━━━━━━━━━━━━━━╇━━━━━━━━━━━━━━━┩\n",
       "│ time_distributed                │ (<span style=\"color: #00d7ff; text-decoration-color: #00d7ff\">None</span>, <span style=\"color: #00af00; text-decoration-color: #00af00\">10</span>, <span style=\"color: #00af00; text-decoration-color: #00af00\">62</span>, <span style=\"color: #00af00; text-decoration-color: #00af00\">62</span>, <span style=\"color: #00af00; text-decoration-color: #00af00\">32</span>) │           <span style=\"color: #00af00; text-decoration-color: #00af00\">896</span> │\n",
       "│ (<span style=\"color: #0087ff; text-decoration-color: #0087ff\">TimeDistributed</span>)               │                        │               │\n",
       "├─────────────────────────────────┼────────────────────────┼───────────────┤\n",
       "│ time_distributed_1              │ (<span style=\"color: #00d7ff; text-decoration-color: #00d7ff\">None</span>, <span style=\"color: #00af00; text-decoration-color: #00af00\">10</span>, <span style=\"color: #00af00; text-decoration-color: #00af00\">31</span>, <span style=\"color: #00af00; text-decoration-color: #00af00\">31</span>, <span style=\"color: #00af00; text-decoration-color: #00af00\">32</span>) │             <span style=\"color: #00af00; text-decoration-color: #00af00\">0</span> │\n",
       "│ (<span style=\"color: #0087ff; text-decoration-color: #0087ff\">TimeDistributed</span>)               │                        │               │\n",
       "├─────────────────────────────────┼────────────────────────┼───────────────┤\n",
       "│ time_distributed_2              │ (<span style=\"color: #00d7ff; text-decoration-color: #00d7ff\">None</span>, <span style=\"color: #00af00; text-decoration-color: #00af00\">10</span>, <span style=\"color: #00af00; text-decoration-color: #00af00\">31</span>, <span style=\"color: #00af00; text-decoration-color: #00af00\">31</span>, <span style=\"color: #00af00; text-decoration-color: #00af00\">32</span>) │             <span style=\"color: #00af00; text-decoration-color: #00af00\">0</span> │\n",
       "│ (<span style=\"color: #0087ff; text-decoration-color: #0087ff\">TimeDistributed</span>)               │                        │               │\n",
       "├─────────────────────────────────┼────────────────────────┼───────────────┤\n",
       "│ time_distributed_3              │ (<span style=\"color: #00d7ff; text-decoration-color: #00d7ff\">None</span>, <span style=\"color: #00af00; text-decoration-color: #00af00\">10</span>, <span style=\"color: #00af00; text-decoration-color: #00af00\">29</span>, <span style=\"color: #00af00; text-decoration-color: #00af00\">29</span>, <span style=\"color: #00af00; text-decoration-color: #00af00\">64</span>) │        <span style=\"color: #00af00; text-decoration-color: #00af00\">18,496</span> │\n",
       "│ (<span style=\"color: #0087ff; text-decoration-color: #0087ff\">TimeDistributed</span>)               │                        │               │\n",
       "├─────────────────────────────────┼────────────────────────┼───────────────┤\n",
       "│ time_distributed_4              │ (<span style=\"color: #00d7ff; text-decoration-color: #00d7ff\">None</span>, <span style=\"color: #00af00; text-decoration-color: #00af00\">10</span>, <span style=\"color: #00af00; text-decoration-color: #00af00\">14</span>, <span style=\"color: #00af00; text-decoration-color: #00af00\">14</span>, <span style=\"color: #00af00; text-decoration-color: #00af00\">64</span>) │             <span style=\"color: #00af00; text-decoration-color: #00af00\">0</span> │\n",
       "│ (<span style=\"color: #0087ff; text-decoration-color: #0087ff\">TimeDistributed</span>)               │                        │               │\n",
       "├─────────────────────────────────┼────────────────────────┼───────────────┤\n",
       "│ time_distributed_5              │ (<span style=\"color: #00d7ff; text-decoration-color: #00d7ff\">None</span>, <span style=\"color: #00af00; text-decoration-color: #00af00\">10</span>, <span style=\"color: #00af00; text-decoration-color: #00af00\">14</span>, <span style=\"color: #00af00; text-decoration-color: #00af00\">14</span>, <span style=\"color: #00af00; text-decoration-color: #00af00\">64</span>) │             <span style=\"color: #00af00; text-decoration-color: #00af00\">0</span> │\n",
       "│ (<span style=\"color: #0087ff; text-decoration-color: #0087ff\">TimeDistributed</span>)               │                        │               │\n",
       "├─────────────────────────────────┼────────────────────────┼───────────────┤\n",
       "│ time_distributed_6              │ (<span style=\"color: #00d7ff; text-decoration-color: #00d7ff\">None</span>, <span style=\"color: #00af00; text-decoration-color: #00af00\">10</span>, <span style=\"color: #00af00; text-decoration-color: #00af00\">12544</span>)      │             <span style=\"color: #00af00; text-decoration-color: #00af00\">0</span> │\n",
       "│ (<span style=\"color: #0087ff; text-decoration-color: #0087ff\">TimeDistributed</span>)               │                        │               │\n",
       "├─────────────────────────────────┼────────────────────────┼───────────────┤\n",
       "│ lstm (<span style=\"color: #0087ff; text-decoration-color: #0087ff\">LSTM</span>)                     │ (<span style=\"color: #00d7ff; text-decoration-color: #00d7ff\">None</span>, <span style=\"color: #00af00; text-decoration-color: #00af00\">64</span>)             │     <span style=\"color: #00af00; text-decoration-color: #00af00\">3,227,904</span> │\n",
       "├─────────────────────────────────┼────────────────────────┼───────────────┤\n",
       "│ dense (<span style=\"color: #0087ff; text-decoration-color: #0087ff\">Dense</span>)                   │ (<span style=\"color: #00d7ff; text-decoration-color: #00d7ff\">None</span>, <span style=\"color: #00af00; text-decoration-color: #00af00\">1</span>)              │            <span style=\"color: #00af00; text-decoration-color: #00af00\">65</span> │\n",
       "└─────────────────────────────────┴────────────────────────┴───────────────┘\n",
       "</pre>\n"
      ],
      "text/plain": [
       "┏━━━━━━━━━━━━━━━━━━━━━━━━━━━━━━━━━┳━━━━━━━━━━━━━━━━━━━━━━━━┳━━━━━━━━━━━━━━━┓\n",
       "┃\u001b[1m \u001b[0m\u001b[1mLayer (type)                   \u001b[0m\u001b[1m \u001b[0m┃\u001b[1m \u001b[0m\u001b[1mOutput Shape          \u001b[0m\u001b[1m \u001b[0m┃\u001b[1m \u001b[0m\u001b[1m      Param #\u001b[0m\u001b[1m \u001b[0m┃\n",
       "┡━━━━━━━━━━━━━━━━━━━━━━━━━━━━━━━━━╇━━━━━━━━━━━━━━━━━━━━━━━━╇━━━━━━━━━━━━━━━┩\n",
       "│ time_distributed                │ (\u001b[38;5;45mNone\u001b[0m, \u001b[38;5;34m10\u001b[0m, \u001b[38;5;34m62\u001b[0m, \u001b[38;5;34m62\u001b[0m, \u001b[38;5;34m32\u001b[0m) │           \u001b[38;5;34m896\u001b[0m │\n",
       "│ (\u001b[38;5;33mTimeDistributed\u001b[0m)               │                        │               │\n",
       "├─────────────────────────────────┼────────────────────────┼───────────────┤\n",
       "│ time_distributed_1              │ (\u001b[38;5;45mNone\u001b[0m, \u001b[38;5;34m10\u001b[0m, \u001b[38;5;34m31\u001b[0m, \u001b[38;5;34m31\u001b[0m, \u001b[38;5;34m32\u001b[0m) │             \u001b[38;5;34m0\u001b[0m │\n",
       "│ (\u001b[38;5;33mTimeDistributed\u001b[0m)               │                        │               │\n",
       "├─────────────────────────────────┼────────────────────────┼───────────────┤\n",
       "│ time_distributed_2              │ (\u001b[38;5;45mNone\u001b[0m, \u001b[38;5;34m10\u001b[0m, \u001b[38;5;34m31\u001b[0m, \u001b[38;5;34m31\u001b[0m, \u001b[38;5;34m32\u001b[0m) │             \u001b[38;5;34m0\u001b[0m │\n",
       "│ (\u001b[38;5;33mTimeDistributed\u001b[0m)               │                        │               │\n",
       "├─────────────────────────────────┼────────────────────────┼───────────────┤\n",
       "│ time_distributed_3              │ (\u001b[38;5;45mNone\u001b[0m, \u001b[38;5;34m10\u001b[0m, \u001b[38;5;34m29\u001b[0m, \u001b[38;5;34m29\u001b[0m, \u001b[38;5;34m64\u001b[0m) │        \u001b[38;5;34m18,496\u001b[0m │\n",
       "│ (\u001b[38;5;33mTimeDistributed\u001b[0m)               │                        │               │\n",
       "├─────────────────────────────────┼────────────────────────┼───────────────┤\n",
       "│ time_distributed_4              │ (\u001b[38;5;45mNone\u001b[0m, \u001b[38;5;34m10\u001b[0m, \u001b[38;5;34m14\u001b[0m, \u001b[38;5;34m14\u001b[0m, \u001b[38;5;34m64\u001b[0m) │             \u001b[38;5;34m0\u001b[0m │\n",
       "│ (\u001b[38;5;33mTimeDistributed\u001b[0m)               │                        │               │\n",
       "├─────────────────────────────────┼────────────────────────┼───────────────┤\n",
       "│ time_distributed_5              │ (\u001b[38;5;45mNone\u001b[0m, \u001b[38;5;34m10\u001b[0m, \u001b[38;5;34m14\u001b[0m, \u001b[38;5;34m14\u001b[0m, \u001b[38;5;34m64\u001b[0m) │             \u001b[38;5;34m0\u001b[0m │\n",
       "│ (\u001b[38;5;33mTimeDistributed\u001b[0m)               │                        │               │\n",
       "├─────────────────────────────────┼────────────────────────┼───────────────┤\n",
       "│ time_distributed_6              │ (\u001b[38;5;45mNone\u001b[0m, \u001b[38;5;34m10\u001b[0m, \u001b[38;5;34m12544\u001b[0m)      │             \u001b[38;5;34m0\u001b[0m │\n",
       "│ (\u001b[38;5;33mTimeDistributed\u001b[0m)               │                        │               │\n",
       "├─────────────────────────────────┼────────────────────────┼───────────────┤\n",
       "│ lstm (\u001b[38;5;33mLSTM\u001b[0m)                     │ (\u001b[38;5;45mNone\u001b[0m, \u001b[38;5;34m64\u001b[0m)             │     \u001b[38;5;34m3,227,904\u001b[0m │\n",
       "├─────────────────────────────────┼────────────────────────┼───────────────┤\n",
       "│ dense (\u001b[38;5;33mDense\u001b[0m)                   │ (\u001b[38;5;45mNone\u001b[0m, \u001b[38;5;34m1\u001b[0m)              │            \u001b[38;5;34m65\u001b[0m │\n",
       "└─────────────────────────────────┴────────────────────────┴───────────────┘\n"
      ]
     },
     "metadata": {},
     "output_type": "display_data"
    },
    {
     "data": {
      "text/html": [
       "<pre style=\"white-space:pre;overflow-x:auto;line-height:normal;font-family:Menlo,'DejaVu Sans Mono',consolas,'Courier New',monospace\"><span style=\"font-weight: bold\"> Total params: </span><span style=\"color: #00af00; text-decoration-color: #00af00\">3,247,361</span> (12.39 MB)\n",
       "</pre>\n"
      ],
      "text/plain": [
       "\u001b[1m Total params: \u001b[0m\u001b[38;5;34m3,247,361\u001b[0m (12.39 MB)\n"
      ]
     },
     "metadata": {},
     "output_type": "display_data"
    },
    {
     "data": {
      "text/html": [
       "<pre style=\"white-space:pre;overflow-x:auto;line-height:normal;font-family:Menlo,'DejaVu Sans Mono',consolas,'Courier New',monospace\"><span style=\"font-weight: bold\"> Trainable params: </span><span style=\"color: #00af00; text-decoration-color: #00af00\">3,247,361</span> (12.39 MB)\n",
       "</pre>\n"
      ],
      "text/plain": [
       "\u001b[1m Trainable params: \u001b[0m\u001b[38;5;34m3,247,361\u001b[0m (12.39 MB)\n"
      ]
     },
     "metadata": {},
     "output_type": "display_data"
    },
    {
     "data": {
      "text/html": [
       "<pre style=\"white-space:pre;overflow-x:auto;line-height:normal;font-family:Menlo,'DejaVu Sans Mono',consolas,'Courier New',monospace\"><span style=\"font-weight: bold\"> Non-trainable params: </span><span style=\"color: #00af00; text-decoration-color: #00af00\">0</span> (0.00 B)\n",
       "</pre>\n"
      ],
      "text/plain": [
       "\u001b[1m Non-trainable params: \u001b[0m\u001b[38;5;34m0\u001b[0m (0.00 B)\n"
      ]
     },
     "metadata": {},
     "output_type": "display_data"
    }
   ],
   "source": [
    "# --- 6. Compilar e treinar o modelo ---\n",
    "model.compile(optimizer='adam',\n",
    "              loss='binary_crossentropy',\n",
    "              metrics=['accuracy'])\n",
    "\n",
    "model.summary()\n",
    "\n"
   ]
  },
  {
   "cell_type": "code",
   "execution_count": 22,
   "id": "dd6b970f",
   "metadata": {},
   "outputs": [
    {
     "name": "stdout",
     "output_type": "stream",
     "text": [
      "\n",
      "Iniciando o treinamento do modelo...\n",
      "Steps per epoch: 31\n",
      "Total samples: 1000\n",
      "Epoch 1/10\n"
     ]
    },
    {
     "name": "stderr",
     "output_type": "stream",
     "text": [
      "2025-08-11 16:08:35.146241: W external/local_xla/xla/tsl/framework/cpu_allocator_impl.cc:83] Allocation of 157450240 exceeds 10% of free system memory.\n",
      "2025-08-11 16:08:35.951502: W external/local_xla/xla/tsl/framework/cpu_allocator_impl.cc:83] Allocation of 157450240 exceeds 10% of free system memory.\n",
      "2025-08-11 16:08:35.954920: W external/local_xla/xla/tsl/framework/cpu_allocator_impl.cc:83] Allocation of 157450240 exceeds 10% of free system memory.\n",
      "2025-08-11 16:08:35.959623: W external/local_xla/xla/tsl/framework/cpu_allocator_impl.cc:83] Allocation of 157450240 exceeds 10% of free system memory.\n",
      "2025-08-11 16:08:35.960883: W external/local_xla/xla/tsl/framework/cpu_allocator_impl.cc:83] Allocation of 157450240 exceeds 10% of free system memory.\n"
     ]
    },
    {
     "name": "stdout",
     "output_type": "stream",
     "text": [
      "\u001b[1m31/31\u001b[0m \u001b[32m━━━━━━━━━━━━━━━━━━━━\u001b[0m\u001b[37m\u001b[0m \u001b[1m43s\u001b[0m 1s/step - accuracy: 0.5488 - loss: 0.7757\n",
      "Epoch 2/10\n",
      "\u001b[1m31/31\u001b[0m \u001b[32m━━━━━━━━━━━━━━━━━━━━\u001b[0m\u001b[37m\u001b[0m \u001b[1m38s\u001b[0m 1s/step - accuracy: 0.6408 - loss: 0.6537\n",
      "Epoch 3/10\n",
      "\u001b[1m31/31\u001b[0m \u001b[32m━━━━━━━━━━━━━━━━━━━━\u001b[0m\u001b[37m\u001b[0m \u001b[1m39s\u001b[0m 1s/step - accuracy: 0.6461 - loss: 0.6563\n",
      "Epoch 4/10\n",
      "\u001b[1m31/31\u001b[0m \u001b[32m━━━━━━━━━━━━━━━━━━━━\u001b[0m\u001b[37m\u001b[0m \u001b[1m38s\u001b[0m 1s/step - accuracy: 0.6019 - loss: 0.6746\n",
      "Epoch 5/10\n",
      "\u001b[1m31/31\u001b[0m \u001b[32m━━━━━━━━━━━━━━━━━━━━\u001b[0m\u001b[37m\u001b[0m \u001b[1m36s\u001b[0m 1s/step - accuracy: 0.6333 - loss: 0.6576\n",
      "Epoch 6/10\n",
      "\u001b[1m31/31\u001b[0m \u001b[32m━━━━━━━━━━━━━━━━━━━━\u001b[0m\u001b[37m\u001b[0m \u001b[1m36s\u001b[0m 1s/step - accuracy: 0.6331 - loss: 0.6576\n",
      "Epoch 7/10\n",
      "\u001b[1m31/31\u001b[0m \u001b[32m━━━━━━━━━━━━━━━━━━━━\u001b[0m\u001b[37m\u001b[0m \u001b[1m36s\u001b[0m 1s/step - accuracy: 0.6078 - loss: 0.6719\n",
      "Epoch 8/10\n",
      "\u001b[1m31/31\u001b[0m \u001b[32m━━━━━━━━━━━━━━━━━━━━\u001b[0m\u001b[37m\u001b[0m \u001b[1m36s\u001b[0m 1s/step - accuracy: 0.5993 - loss: 0.6749\n",
      "Epoch 9/10\n",
      "\u001b[1m31/31\u001b[0m \u001b[32m━━━━━━━━━━━━━━━━━━━━\u001b[0m\u001b[37m\u001b[0m \u001b[1m36s\u001b[0m 1s/step - accuracy: 0.6212 - loss: 0.6634\n",
      "Epoch 10/10\n",
      "\u001b[1m31/31\u001b[0m \u001b[32m━━━━━━━━━━━━━━━━━━━━\u001b[0m\u001b[37m\u001b[0m \u001b[1m36s\u001b[0m 1s/step - accuracy: 0.6189 - loss: 0.6659\n"
     ]
    }
   ],
   "source": [
    "print(\"\\nIniciando o treinamento do modelo...\")\n",
    "\n",
    "\n",
    "total_samples = 1000\n",
    "batch_size = 32\n",
    "steps_per_epoch = total_samples // batch_size\n",
    "\n",
    "print(f\"Steps per epoch: {steps_per_epoch}\")\n",
    "print(f\"Total samples: {total_samples}\")\n",
    "\n",
    "history = model.fit(\n",
    "    data_generator_optimized(train_batches_indices, batch_size=batch_size),\n",
    "    steps_per_epoch=steps_per_epoch,\n",
    "    epochs=10\n",
    ")"
   ]
  },
  {
   "cell_type": "code",
   "execution_count": 23,
   "id": "a9b62db4",
   "metadata": {},
   "outputs": [
    {
     "name": "stdout",
     "output_type": "stream",
     "text": [
      "\n",
      "Modelo salvo em: ../models/gaze_attention_model.keras\n"
     ]
    }
   ],
   "source": [
    "# --- 8. Salvar o modelo treinado ---\n",
    "models_dir = os.path.join(CAMINHO_BASE, 'models')\n",
    "if not os.path.exists(models_dir):\n",
    "    os.makedirs(models_dir)\n",
    "    print(f\"Diretório criado: {models_dir}\")\n",
    "\n",
    "model_path = os.path.join(CAMINHO_BASE, 'models', 'gaze_attention_model.keras')\n",
    "model.save(model_path)\n",
    "print(f\"\\nModelo salvo em: {model_path}\")"
   ]
  },
  {
   "cell_type": "code",
   "execution_count": 27,
   "id": "0d743d3e",
   "metadata": {},
   "outputs": [
    {
     "data": {
      "image/png": "[encoded data removed]",
      "text/plain": [
       "<Figure size 800x500 with 1 Axes>"
      ]
     },
     "metadata": {},
     "output_type": "display_data"
    }
   ],
   "source": [
    "# --- 9. Gráfico de acurácia do modelo ---\n",
    "import matplotlib.pyplot as plt\n",
    "plt.figure(figsize=(8, 5))\n",
    "plt.plot(history.history['accuracy'], label='Acurácia Treino')\n",
    "\n",
    "plt.title('Acurácia do Modelo durante o Treinamento')\n",
    "plt.xlabel('Época')\n",
    "plt.ylabel('Acurácia')\n",
    "plt.legend()\n",
    "plt.grid(True)\n",
    "plt.show()"
   ]
  },
  {
   "cell_type": "code",
   "execution_count": 26,
   "id": "1ec4bce7",
   "metadata": {},
   "outputs": [
    {
     "data": {
      "image/png": "[encoded data removed]",
      "text/plain": [
       "<Figure size 800x500 with 1 Axes>"
      ]
     },
     "metadata": {},
     "output_type": "display_data"
    }
   ],
   "source": [
    "# --- 10. Gráfico de loss do modelo ---\n",
    "plt.figure(figsize=(8, 5))\n",
    "plt.plot(history.history['loss'], label='Loss Treino')\n",
    "plt.title('Loss do Modelo durante o Treinamento')\n",
    "plt.xlabel('Época')\n",
    "plt.ylabel('Loss')\n",
    "plt.legend()\n",
    "plt.grid(True)\n",
    "plt.show()"
   ]
  },
  {
   "cell_type": "markdown",
   "id": "82183092",
   "metadata": {},
   "source": [
    "# Fine Tune"
   ]
  },
  {
   "cell_type": "code",
   "execution_count": 21,
   "id": "bd018f8b",
   "metadata": {},
   "outputs": [],
   "source": [
    "import os\n",
    "import numpy as np\n",
    "import cv2\n",
    "import pandas as pd\n",
    "import json\n",
    "from scipy.io import loadmat\n",
    "from sklearn.model_selection import train_test_split\n",
    "import tensorflow as tf\n",
    "from tensorflow.keras.models import load_model, Sequential\n",
    "from tensorflow.keras.layers import TimeDistributed, Conv2D, MaxPooling2D, Flatten, LSTM, Dense\n",
    "from tensorflow.keras.optimizers import Adam\n",
    "from tensorflow.keras.callbacks import EarlyStopping\n",
    "import matplotlib.pyplot as plt"
   ]
  },
  {
   "cell_type": "code",
   "execution_count": 13,
   "id": "e352b9fa",
   "metadata": {},
   "outputs": [],
   "source": [
    "MODELO_SALVO_ORIGINAL = os.path.join(CAMINHO_BASE, 'models', 'gaze_attention_model.keras')\n",
    "MODELO_SALVO_FINETUNED = os.path.join(CAMINHO_BASE, 'models', 'gaze_attention_model_finetuned.keras')"
   ]
  },
  {
   "cell_type": "code",
   "execution_count": 14,
   "id": "44a06a72",
   "metadata": {},
   "outputs": [
    {
     "data": {
      "text/html": [
       "<pre style=\"white-space:pre;overflow-x:auto;line-height:normal;font-family:Menlo,'DejaVu Sans Mono',consolas,'Courier New',monospace\"><span style=\"font-weight: bold\">Model: \"sequential\"</span>\n",
       "</pre>\n"
      ],
      "text/plain": [
       "\u001b[1mModel: \"sequential\"\u001b[0m\n"
      ]
     },
     "metadata": {},
     "output_type": "display_data"
    },
    {
     "data": {
      "text/html": [
       "<pre style=\"white-space:pre;overflow-x:auto;line-height:normal;font-family:Menlo,'DejaVu Sans Mono',consolas,'Courier New',monospace\">┏━━━━━━━━━━━━━━━━━━━━━━━━━━━━━━━━━┳━━━━━━━━━━━━━━━━━━━━━━━━┳━━━━━━━━━━━━━━━┓\n",
       "┃<span style=\"font-weight: bold\"> Layer (type)                    </span>┃<span style=\"font-weight: bold\"> Output Shape           </span>┃<span style=\"font-weight: bold\">       Param # </span>┃\n",
       "┡━━━━━━━━━━━━━━━━━━━━━━━━━━━━━━━━━╇━━━━━━━━━━━━━━━━━━━━━━━━╇━━━━━━━━━━━━━━━┩\n",
       "│ time_distributed                │ (<span style=\"color: #00d7ff; text-decoration-color: #00d7ff\">None</span>, <span style=\"color: #00af00; text-decoration-color: #00af00\">10</span>, <span style=\"color: #00af00; text-decoration-color: #00af00\">62</span>, <span style=\"color: #00af00; text-decoration-color: #00af00\">62</span>, <span style=\"color: #00af00; text-decoration-color: #00af00\">32</span>) │           <span style=\"color: #00af00; text-decoration-color: #00af00\">896</span> │\n",
       "│ (<span style=\"color: #0087ff; text-decoration-color: #0087ff\">TimeDistributed</span>)               │                        │               │\n",
       "├─────────────────────────────────┼────────────────────────┼───────────────┤\n",
       "│ time_distributed_1              │ (<span style=\"color: #00d7ff; text-decoration-color: #00d7ff\">None</span>, <span style=\"color: #00af00; text-decoration-color: #00af00\">10</span>, <span style=\"color: #00af00; text-decoration-color: #00af00\">31</span>, <span style=\"color: #00af00; text-decoration-color: #00af00\">31</span>, <span style=\"color: #00af00; text-decoration-color: #00af00\">32</span>) │             <span style=\"color: #00af00; text-decoration-color: #00af00\">0</span> │\n",
       "│ (<span style=\"color: #0087ff; text-decoration-color: #0087ff\">TimeDistributed</span>)               │                        │               │\n",
       "├─────────────────────────────────┼────────────────────────┼───────────────┤\n",
       "│ time_distributed_2              │ (<span style=\"color: #00d7ff; text-decoration-color: #00d7ff\">None</span>, <span style=\"color: #00af00; text-decoration-color: #00af00\">10</span>, <span style=\"color: #00af00; text-decoration-color: #00af00\">29</span>, <span style=\"color: #00af00; text-decoration-color: #00af00\">29</span>, <span style=\"color: #00af00; text-decoration-color: #00af00\">64</span>) │        <span style=\"color: #00af00; text-decoration-color: #00af00\">18,496</span> │\n",
       "│ (<span style=\"color: #0087ff; text-decoration-color: #0087ff\">TimeDistributed</span>)               │                        │               │\n",
       "├─────────────────────────────────┼────────────────────────┼───────────────┤\n",
       "│ time_distributed_3              │ (<span style=\"color: #00d7ff; text-decoration-color: #00d7ff\">None</span>, <span style=\"color: #00af00; text-decoration-color: #00af00\">10</span>, <span style=\"color: #00af00; text-decoration-color: #00af00\">14</span>, <span style=\"color: #00af00; text-decoration-color: #00af00\">14</span>, <span style=\"color: #00af00; text-decoration-color: #00af00\">64</span>) │             <span style=\"color: #00af00; text-decoration-color: #00af00\">0</span> │\n",
       "│ (<span style=\"color: #0087ff; text-decoration-color: #0087ff\">TimeDistributed</span>)               │                        │               │\n",
       "├─────────────────────────────────┼────────────────────────┼───────────────┤\n",
       "│ time_distributed_4              │ (<span style=\"color: #00d7ff; text-decoration-color: #00d7ff\">None</span>, <span style=\"color: #00af00; text-decoration-color: #00af00\">10</span>, <span style=\"color: #00af00; text-decoration-color: #00af00\">12544</span>)      │             <span style=\"color: #00af00; text-decoration-color: #00af00\">0</span> │\n",
       "│ (<span style=\"color: #0087ff; text-decoration-color: #0087ff\">TimeDistributed</span>)               │                        │               │\n",
       "├─────────────────────────────────┼────────────────────────┼───────────────┤\n",
       "│ lstm (<span style=\"color: #0087ff; text-decoration-color: #0087ff\">LSTM</span>)                     │ (<span style=\"color: #00d7ff; text-decoration-color: #00d7ff\">None</span>, <span style=\"color: #00af00; text-decoration-color: #00af00\">64</span>)             │     <span style=\"color: #00af00; text-decoration-color: #00af00\">3,227,904</span> │\n",
       "├─────────────────────────────────┼────────────────────────┼───────────────┤\n",
       "│ dense (<span style=\"color: #0087ff; text-decoration-color: #0087ff\">Dense</span>)                   │ (<span style=\"color: #00d7ff; text-decoration-color: #00d7ff\">None</span>, <span style=\"color: #00af00; text-decoration-color: #00af00\">1</span>)              │            <span style=\"color: #00af00; text-decoration-color: #00af00\">65</span> │\n",
       "└─────────────────────────────────┴────────────────────────┴───────────────┘\n",
       "</pre>\n"
      ],
      "text/plain": [
       "┏━━━━━━━━━━━━━━━━━━━━━━━━━━━━━━━━━┳━━━━━━━━━━━━━━━━━━━━━━━━┳━━━━━━━━━━━━━━━┓\n",
       "┃\u001b[1m \u001b[0m\u001b[1mLayer (type)                   \u001b[0m\u001b[1m \u001b[0m┃\u001b[1m \u001b[0m\u001b[1mOutput Shape          \u001b[0m\u001b[1m \u001b[0m┃\u001b[1m \u001b[0m\u001b[1m      Param #\u001b[0m\u001b[1m \u001b[0m┃\n",
       "┡━━━━━━━━━━━━━━━━━━━━━━━━━━━━━━━━━╇━━━━━━━━━━━━━━━━━━━━━━━━╇━━━━━━━━━━━━━━━┩\n",
       "│ time_distributed                │ (\u001b[38;5;45mNone\u001b[0m, \u001b[38;5;34m10\u001b[0m, \u001b[38;5;34m62\u001b[0m, \u001b[38;5;34m62\u001b[0m, \u001b[38;5;34m32\u001b[0m) │           \u001b[38;5;34m896\u001b[0m │\n",
       "│ (\u001b[38;5;33mTimeDistributed\u001b[0m)               │                        │               │\n",
       "├─────────────────────────────────┼────────────────────────┼───────────────┤\n",
       "│ time_distributed_1              │ (\u001b[38;5;45mNone\u001b[0m, \u001b[38;5;34m10\u001b[0m, \u001b[38;5;34m31\u001b[0m, \u001b[38;5;34m31\u001b[0m, \u001b[38;5;34m32\u001b[0m) │             \u001b[38;5;34m0\u001b[0m │\n",
       "│ (\u001b[38;5;33mTimeDistributed\u001b[0m)               │                        │               │\n",
       "├─────────────────────────────────┼────────────────────────┼───────────────┤\n",
       "│ time_distributed_2              │ (\u001b[38;5;45mNone\u001b[0m, \u001b[38;5;34m10\u001b[0m, \u001b[38;5;34m29\u001b[0m, \u001b[38;5;34m29\u001b[0m, \u001b[38;5;34m64\u001b[0m) │        \u001b[38;5;34m18,496\u001b[0m │\n",
       "│ (\u001b[38;5;33mTimeDistributed\u001b[0m)               │                        │               │\n",
       "├─────────────────────────────────┼────────────────────────┼───────────────┤\n",
       "│ time_distributed_3              │ (\u001b[38;5;45mNone\u001b[0m, \u001b[38;5;34m10\u001b[0m, \u001b[38;5;34m14\u001b[0m, \u001b[38;5;34m14\u001b[0m, \u001b[38;5;34m64\u001b[0m) │             \u001b[38;5;34m0\u001b[0m │\n",
       "│ (\u001b[38;5;33mTimeDistributed\u001b[0m)               │                        │               │\n",
       "├─────────────────────────────────┼────────────────────────┼───────────────┤\n",
       "│ time_distributed_4              │ (\u001b[38;5;45mNone\u001b[0m, \u001b[38;5;34m10\u001b[0m, \u001b[38;5;34m12544\u001b[0m)      │             \u001b[38;5;34m0\u001b[0m │\n",
       "│ (\u001b[38;5;33mTimeDistributed\u001b[0m)               │                        │               │\n",
       "├─────────────────────────────────┼────────────────────────┼───────────────┤\n",
       "│ lstm (\u001b[38;5;33mLSTM\u001b[0m)                     │ (\u001b[38;5;45mNone\u001b[0m, \u001b[38;5;34m64\u001b[0m)             │     \u001b[38;5;34m3,227,904\u001b[0m │\n",
       "├─────────────────────────────────┼────────────────────────┼───────────────┤\n",
       "│ dense (\u001b[38;5;33mDense\u001b[0m)                   │ (\u001b[38;5;45mNone\u001b[0m, \u001b[38;5;34m1\u001b[0m)              │            \u001b[38;5;34m65\u001b[0m │\n",
       "└─────────────────────────────────┴────────────────────────┴───────────────┘\n"
      ]
     },
     "metadata": {},
     "output_type": "display_data"
    },
    {
     "data": {
      "text/html": [
       "<pre style=\"white-space:pre;overflow-x:auto;line-height:normal;font-family:Menlo,'DejaVu Sans Mono',consolas,'Courier New',monospace\"><span style=\"font-weight: bold\"> Total params: </span><span style=\"color: #00af00; text-decoration-color: #00af00\">9,742,085</span> (37.16 MB)\n",
       "</pre>\n"
      ],
      "text/plain": [
       "\u001b[1m Total params: \u001b[0m\u001b[38;5;34m9,742,085\u001b[0m (37.16 MB)\n"
      ]
     },
     "metadata": {},
     "output_type": "display_data"
    },
    {
     "data": {
      "text/html": [
       "<pre style=\"white-space:pre;overflow-x:auto;line-height:normal;font-family:Menlo,'DejaVu Sans Mono',consolas,'Courier New',monospace\"><span style=\"font-weight: bold\"> Trainable params: </span><span style=\"color: #00af00; text-decoration-color: #00af00\">3,247,361</span> (12.39 MB)\n",
       "</pre>\n"
      ],
      "text/plain": [
       "\u001b[1m Trainable params: \u001b[0m\u001b[38;5;34m3,247,361\u001b[0m (12.39 MB)\n"
      ]
     },
     "metadata": {},
     "output_type": "display_data"
    },
    {
     "data": {
      "text/html": [
       "<pre style=\"white-space:pre;overflow-x:auto;line-height:normal;font-family:Menlo,'DejaVu Sans Mono',consolas,'Courier New',monospace\"><span style=\"font-weight: bold\"> Non-trainable params: </span><span style=\"color: #00af00; text-decoration-color: #00af00\">0</span> (0.00 B)\n",
       "</pre>\n"
      ],
      "text/plain": [
       "\u001b[1m Non-trainable params: \u001b[0m\u001b[38;5;34m0\u001b[0m (0.00 B)\n"
      ]
     },
     "metadata": {},
     "output_type": "display_data"
    },
    {
     "data": {
      "text/html": [
       "<pre style=\"white-space:pre;overflow-x:auto;line-height:normal;font-family:Menlo,'DejaVu Sans Mono',consolas,'Courier New',monospace\"><span style=\"font-weight: bold\"> Optimizer params: </span><span style=\"color: #00af00; text-decoration-color: #00af00\">6,494,724</span> (24.78 MB)\n",
       "</pre>\n"
      ],
      "text/plain": [
       "\u001b[1m Optimizer params: \u001b[0m\u001b[38;5;34m6,494,724\u001b[0m (24.78 MB)\n"
      ]
     },
     "metadata": {},
     "output_type": "display_data"
    }
   ],
   "source": [
    "model = load_model(MODELO_SALVO_ORIGINAL)\n",
    "model.summary()"
   ]
  },
  {
   "cell_type": "code",
   "execution_count": 15,
   "id": "1e8ed3fb",
   "metadata": {},
   "outputs": [],
   "source": [
    "PATH_MPIIGAZE_DATA = os.path.join(MPIIGAZE_PATH, 'Data')\n",
    "PATH_DATA_NORMALIZED = os.path.join(PATH_MPIIGAZE_DATA, 'Normalized')"
   ]
  },
  {
   "cell_type": "code",
   "execution_count": 55,
   "id": "5c071253",
   "metadata": {},
   "outputs": [],
   "source": [
    "IMG_SIZE = (64, 64) # O tamanho da imagem deve ser o mesmo do modelo original\n",
    "TIME_WINDOW = 10 # O tamanho da janela de tempo deve ser o mesmo\n",
    "BATCH_SIZE = 32\n",
    "\n",
    "# É uma estimativa. Você pode precisar ajustar para o seu dataset.\n",
    "# Uma estimativa segura pode ser obtida inspecionando um arquivo .mat e contando as amostras.\n",
    "SAMPLES_PER_MAT_FILE_ESTIMATED = 2000\n",
    "\n",
    "# --- NOVO: Define o número de arquivos .mat que você quer usar ---\n",
    "NUM_FILES_TO_USE = 200# Exemplo: usará 100 dos 521 arquivos disponíveis. Ajuste este valor.\n",
    "# --- FIM DO NOVO ---\n"
   ]
  },
  {
   "cell_type": "code",
   "execution_count": 56,
   "id": "866b85dc",
   "metadata": {},
   "outputs": [],
   "source": [
    "all_images_mpii = []\n",
    "all_labels_mpii = []"
   ]
  },
  {
   "cell_type": "code",
   "execution_count": 57,
   "id": "f2c6234f",
   "metadata": {},
   "outputs": [],
   "source": [
    "import random"
   ]
  },
  {
   "cell_type": "code",
   "execution_count": 58,
   "id": "48a55c10",
   "metadata": {},
   "outputs": [
    {
     "name": "stdout",
     "output_type": "stream",
     "text": [
      "Total de arquivos .mat encontrados (após amostragem): 200\n",
      "Arquivos para treino: 160, para validação: 40\n"
     ]
    }
   ],
   "source": [
    "mat_file_paths = []\n",
    "for participant_dir in sorted(os.listdir(PATH_DATA_NORMALIZED)):\n",
    "    participant_path = os.path.join(PATH_DATA_NORMALIZED, participant_dir)\n",
    "    if os.path.isdir(participant_path):\n",
    "        for day_file in sorted(os.listdir(participant_path)):\n",
    "            if day_file.endswith('.mat'):\n",
    "                mat_file_paths.append(os.path.join(participant_path, day_file))\n",
    "\n",
    "# Embaralha e seleciona uma amostra do número total de arquivos\n",
    "if len(mat_file_paths) > NUM_FILES_TO_USE:\n",
    "    # random.sample é ideal para selecionar uma amostra aleatória sem repetição\n",
    "    mat_file_paths = random.sample(mat_file_paths, NUM_FILES_TO_USE)\n",
    "\n",
    "\n",
    "print(f\"Total de arquivos .mat encontrados (após amostragem): {len(mat_file_paths)}\")\n",
    "\n",
    "# Dividir os caminhos dos arquivos para treino e validação\n",
    "train_paths, val_paths = train_test_split(mat_file_paths, test_size=0.2, random_state=42)\n",
    "\n",
    "print(f\"Arquivos para treino: {len(train_paths)}, para validação: {len(val_paths)}\")"
   ]
  },
  {
   "cell_type": "code",
   "execution_count": 59,
   "id": "d53e733d",
   "metadata": {},
   "outputs": [
    {
     "name": "stdout",
     "output_type": "stream",
     "text": [
      "Processando dados do participante: p00\n",
      "Nomes dos campos no arquivo day01.mat:\n",
      "('right', 'left')\n",
      "--------------------------------------------------\n",
      "Análise inicial concluída. Por favor, me forneça a saída acima.\n",
      "Com base nos nomes dos campos, ajustaremos o código de carregamento.\n",
      "--------------------------------------------------\n"
     ]
    }
   ],
   "source": [
    "for participant_dir in sorted(os.listdir(PATH_DATA_NORMALIZED)):\n",
    "    participant_path = os.path.join(PATH_DATA_NORMALIZED, participant_dir)\n",
    "    if os.path.isdir(participant_path):\n",
    "        print(f\"Processando dados do participante: {participant_dir}\")\n",
    "        for day_file in sorted(os.listdir(participant_path)):\n",
    "            if day_file.endswith('.mat'):\n",
    "                day_path = os.path.join(participant_path, day_file)\n",
    "                try:\n",
    "                    mat_data = loadmat(day_path)\n",
    "                    \n",
    "                    # Acessa a estrutura aninhada, que sabemos que existe\n",
    "                    content = mat_data['data'][0, 0]\n",
    "                    \n",
    "                    # --- CÓDIGO CRUCIAL: Imprime os nomes dos campos dentro de `content` ---\n",
    "                    print(f\"Nomes dos campos no arquivo {day_file}:\")\n",
    "                    print(content.dtype.names)\n",
    "                    # Use um break para parar após inspecionar o primeiro arquivo\n",
    "                    # para que não tenhamos uma saída muito longa\n",
    "                    break\n",
    "                except Exception as e:\n",
    "                    print(f\"Erro ao processar o arquivo {day_path}: {e}\")\n",
    "        if 'content' in locals():\n",
    "            break # Pare o loop externo após o primeiro arquivo ser inspecionado\n",
    "\n",
    "print(\"--------------------------------------------------\")\n",
    "print(\"Análise inicial concluída. Por favor, me forneça a saída acima.\")\n",
    "print(\"Com base nos nomes dos campos, ajustaremos o código de carregamento.\")\n",
    "print(\"--------------------------------------------------\")"
   ]
  },
  {
   "cell_type": "code",
   "execution_count": 60,
   "id": "c032d107",
   "metadata": {},
   "outputs": [],
   "source": [
    "def data_generator_regression(file_paths, img_size, time_window):\n",
    "    \"\"\"\n",
    "    Gerador que lê arquivos .mat e produz sequências de imagens e rótulos contínuos (pitch e yaw).\n",
    "    \"\"\"\n",
    "    for mat_file_path in file_paths:\n",
    "        try:\n",
    "            mat_data = loadmat(mat_file_path)\n",
    "            content = mat_data['data'][0, 0]\n",
    "            \n",
    "            all_images_file = []\n",
    "            all_labels_file = []\n",
    "            \n",
    "            for eye_key in ['left', 'right']:\n",
    "                eye_data = content[eye_key][0, 0]\n",
    "                images_raw = eye_data['image']\n",
    "                gaze_labels_raw = eye_data['gaze']\n",
    "\n",
    "                for img_raw, label_raw in zip(images_raw, gaze_labels_raw):\n",
    "                    img_resized = cv2.resize(img_raw, img_size)\n",
    "                    if len(img_resized.shape) == 2:\n",
    "                        img_resized = np.expand_dims(img_resized, axis=-1)\n",
    "                        img_resized = np.repeat(img_resized, 3, axis=-1)\n",
    "                    img_normalized = img_resized.astype('float32') / 255.0\n",
    "                    all_images_file.append(img_normalized)\n",
    "\n",
    "                    # Rótulo contínuo: vetor de 2 elementos (pitch, yaw)\n",
    "                    label_continuous = np.array([label_raw[0], label_raw[1]], dtype=np.float32)\n",
    "                    all_labels_file.append(label_continuous)\n",
    "            \n",
    "            # Agrupa em sequências\n",
    "            for i in range(len(all_images_file) - time_window + 1):\n",
    "                sequence = np.array(all_images_file[i:i + time_window])\n",
    "                # Para regressão, o rótulo da sequência pode ser o rótulo do último frame\n",
    "                # ou a média. Vamos usar o último rótulo para simplificar.\n",
    "                sequence_label = np.array(all_labels_file[i + time_window - 1])\n",
    "                yield sequence, sequence_label\n",
    "        \n",
    "        except Exception as e:\n",
    "            print(f\"Erro no gerador ao processar o arquivo {mat_file_path}: {e}\")\n",
    "            continue"
   ]
  },
  {
   "cell_type": "code",
   "execution_count": 61,
   "id": "912da6ca",
   "metadata": {},
   "outputs": [],
   "source": [
    "# Definindo as especificações da saída do gerador para regressão (pitch, yaw)\n",
    "output_signature = (\n",
    "    tf.TensorSpec(shape=(TIME_WINDOW, IMG_SIZE[0], IMG_SIZE[1], 3), dtype=tf.float32),\n",
    "    tf.TensorSpec(shape=(2,), dtype=tf.float32) # Rótulo agora é um vetor de 2 elementos\n",
    ")\n",
    "\n",
    "train_dataset = tf.data.Dataset.from_generator(\n",
    "    lambda: data_generator_regression(train_paths, IMG_SIZE, TIME_WINDOW),\n",
    "    output_signature=output_signature\n",
    ").shuffle(buffer_size=1024).batch(BATCH_SIZE).prefetch(buffer_size=tf.data.AUTOTUNE)\n",
    "\n",
    "val_dataset = tf.data.Dataset.from_generator(\n",
    "    lambda: data_generator_regression(val_paths, IMG_SIZE, TIME_WINDOW),\n",
    "    output_signature=output_signature\n",
    ").batch(BATCH_SIZE).prefetch(buffer_size=tf.data.AUTOTUNE)"
   ]
  },
  {
   "cell_type": "code",
   "execution_count": 62,
   "id": "d0eaa4e0",
   "metadata": {},
   "outputs": [
    {
     "data": {
      "text/html": [
       "<pre style=\"white-space:pre;overflow-x:auto;line-height:normal;font-family:Menlo,'DejaVu Sans Mono',consolas,'Courier New',monospace\"><span style=\"font-weight: bold\">Model: \"sequential_3\"</span>\n",
       "</pre>\n"
      ],
      "text/plain": [
       "\u001b[1mModel: \"sequential_3\"\u001b[0m\n"
      ]
     },
     "metadata": {},
     "output_type": "display_data"
    },
    {
     "data": {
      "text/html": [
       "<pre style=\"white-space:pre;overflow-x:auto;line-height:normal;font-family:Menlo,'DejaVu Sans Mono',consolas,'Courier New',monospace\">┏━━━━━━━━━━━━━━━━━━━━━━━━━━━━━━━━━┳━━━━━━━━━━━━━━━━━━━━━━━━┳━━━━━━━━━━━━━━━┓\n",
       "┃<span style=\"font-weight: bold\"> Layer (type)                    </span>┃<span style=\"font-weight: bold\"> Output Shape           </span>┃<span style=\"font-weight: bold\">       Param # </span>┃\n",
       "┡━━━━━━━━━━━━━━━━━━━━━━━━━━━━━━━━━╇━━━━━━━━━━━━━━━━━━━━━━━━╇━━━━━━━━━━━━━━━┩\n",
       "│ time_distributed                │ (<span style=\"color: #00d7ff; text-decoration-color: #00d7ff\">None</span>, <span style=\"color: #00af00; text-decoration-color: #00af00\">10</span>, <span style=\"color: #00af00; text-decoration-color: #00af00\">62</span>, <span style=\"color: #00af00; text-decoration-color: #00af00\">62</span>, <span style=\"color: #00af00; text-decoration-color: #00af00\">32</span>) │           <span style=\"color: #00af00; text-decoration-color: #00af00\">896</span> │\n",
       "│ (<span style=\"color: #0087ff; text-decoration-color: #0087ff\">TimeDistributed</span>)               │                        │               │\n",
       "├─────────────────────────────────┼────────────────────────┼───────────────┤\n",
       "│ time_distributed_1              │ (<span style=\"color: #00d7ff; text-decoration-color: #00d7ff\">None</span>, <span style=\"color: #00af00; text-decoration-color: #00af00\">10</span>, <span style=\"color: #00af00; text-decoration-color: #00af00\">31</span>, <span style=\"color: #00af00; text-decoration-color: #00af00\">31</span>, <span style=\"color: #00af00; text-decoration-color: #00af00\">32</span>) │             <span style=\"color: #00af00; text-decoration-color: #00af00\">0</span> │\n",
       "│ (<span style=\"color: #0087ff; text-decoration-color: #0087ff\">TimeDistributed</span>)               │                        │               │\n",
       "├─────────────────────────────────┼────────────────────────┼───────────────┤\n",
       "│ time_distributed_2              │ (<span style=\"color: #00d7ff; text-decoration-color: #00d7ff\">None</span>, <span style=\"color: #00af00; text-decoration-color: #00af00\">10</span>, <span style=\"color: #00af00; text-decoration-color: #00af00\">29</span>, <span style=\"color: #00af00; text-decoration-color: #00af00\">29</span>, <span style=\"color: #00af00; text-decoration-color: #00af00\">64</span>) │        <span style=\"color: #00af00; text-decoration-color: #00af00\">18,496</span> │\n",
       "│ (<span style=\"color: #0087ff; text-decoration-color: #0087ff\">TimeDistributed</span>)               │                        │               │\n",
       "├─────────────────────────────────┼────────────────────────┼───────────────┤\n",
       "│ time_distributed_3              │ (<span style=\"color: #00d7ff; text-decoration-color: #00d7ff\">None</span>, <span style=\"color: #00af00; text-decoration-color: #00af00\">10</span>, <span style=\"color: #00af00; text-decoration-color: #00af00\">14</span>, <span style=\"color: #00af00; text-decoration-color: #00af00\">14</span>, <span style=\"color: #00af00; text-decoration-color: #00af00\">64</span>) │             <span style=\"color: #00af00; text-decoration-color: #00af00\">0</span> │\n",
       "│ (<span style=\"color: #0087ff; text-decoration-color: #0087ff\">TimeDistributed</span>)               │                        │               │\n",
       "├─────────────────────────────────┼────────────────────────┼───────────────┤\n",
       "│ time_distributed_4              │ (<span style=\"color: #00d7ff; text-decoration-color: #00d7ff\">None</span>, <span style=\"color: #00af00; text-decoration-color: #00af00\">10</span>, <span style=\"color: #00af00; text-decoration-color: #00af00\">12544</span>)      │             <span style=\"color: #00af00; text-decoration-color: #00af00\">0</span> │\n",
       "│ (<span style=\"color: #0087ff; text-decoration-color: #0087ff\">TimeDistributed</span>)               │                        │               │\n",
       "├─────────────────────────────────┼────────────────────────┼───────────────┤\n",
       "│ lstm (<span style=\"color: #0087ff; text-decoration-color: #0087ff\">LSTM</span>)                     │ (<span style=\"color: #00d7ff; text-decoration-color: #00d7ff\">None</span>, <span style=\"color: #00af00; text-decoration-color: #00af00\">64</span>)             │     <span style=\"color: #00af00; text-decoration-color: #00af00\">3,227,904</span> │\n",
       "├─────────────────────────────────┼────────────────────────┼───────────────┤\n",
       "│ dense_3 (<span style=\"color: #0087ff; text-decoration-color: #0087ff\">Dense</span>)                 │ ?                      │   <span style=\"color: #00af00; text-decoration-color: #00af00\">0</span> (unbuilt) │\n",
       "└─────────────────────────────────┴────────────────────────┴───────────────┘\n",
       "</pre>\n"
      ],
      "text/plain": [
       "┏━━━━━━━━━━━━━━━━━━━━━━━━━━━━━━━━━┳━━━━━━━━━━━━━━━━━━━━━━━━┳━━━━━━━━━━━━━━━┓\n",
       "┃\u001b[1m \u001b[0m\u001b[1mLayer (type)                   \u001b[0m\u001b[1m \u001b[0m┃\u001b[1m \u001b[0m\u001b[1mOutput Shape          \u001b[0m\u001b[1m \u001b[0m┃\u001b[1m \u001b[0m\u001b[1m      Param #\u001b[0m\u001b[1m \u001b[0m┃\n",
       "┡━━━━━━━━━━━━━━━━━━━━━━━━━━━━━━━━━╇━━━━━━━━━━━━━━━━━━━━━━━━╇━━━━━━━━━━━━━━━┩\n",
       "│ time_distributed                │ (\u001b[38;5;45mNone\u001b[0m, \u001b[38;5;34m10\u001b[0m, \u001b[38;5;34m62\u001b[0m, \u001b[38;5;34m62\u001b[0m, \u001b[38;5;34m32\u001b[0m) │           \u001b[38;5;34m896\u001b[0m │\n",
       "│ (\u001b[38;5;33mTimeDistributed\u001b[0m)               │                        │               │\n",
       "├─────────────────────────────────┼────────────────────────┼───────────────┤\n",
       "│ time_distributed_1              │ (\u001b[38;5;45mNone\u001b[0m, \u001b[38;5;34m10\u001b[0m, \u001b[38;5;34m31\u001b[0m, \u001b[38;5;34m31\u001b[0m, \u001b[38;5;34m32\u001b[0m) │             \u001b[38;5;34m0\u001b[0m │\n",
       "│ (\u001b[38;5;33mTimeDistributed\u001b[0m)               │                        │               │\n",
       "├─────────────────────────────────┼────────────────────────┼───────────────┤\n",
       "│ time_distributed_2              │ (\u001b[38;5;45mNone\u001b[0m, \u001b[38;5;34m10\u001b[0m, \u001b[38;5;34m29\u001b[0m, \u001b[38;5;34m29\u001b[0m, \u001b[38;5;34m64\u001b[0m) │        \u001b[38;5;34m18,496\u001b[0m │\n",
       "│ (\u001b[38;5;33mTimeDistributed\u001b[0m)               │                        │               │\n",
       "├─────────────────────────────────┼────────────────────────┼───────────────┤\n",
       "│ time_distributed_3              │ (\u001b[38;5;45mNone\u001b[0m, \u001b[38;5;34m10\u001b[0m, \u001b[38;5;34m14\u001b[0m, \u001b[38;5;34m14\u001b[0m, \u001b[38;5;34m64\u001b[0m) │             \u001b[38;5;34m0\u001b[0m │\n",
       "│ (\u001b[38;5;33mTimeDistributed\u001b[0m)               │                        │               │\n",
       "├─────────────────────────────────┼────────────────────────┼───────────────┤\n",
       "│ time_distributed_4              │ (\u001b[38;5;45mNone\u001b[0m, \u001b[38;5;34m10\u001b[0m, \u001b[38;5;34m12544\u001b[0m)      │             \u001b[38;5;34m0\u001b[0m │\n",
       "│ (\u001b[38;5;33mTimeDistributed\u001b[0m)               │                        │               │\n",
       "├─────────────────────────────────┼────────────────────────┼───────────────┤\n",
       "│ lstm (\u001b[38;5;33mLSTM\u001b[0m)                     │ (\u001b[38;5;45mNone\u001b[0m, \u001b[38;5;34m64\u001b[0m)             │     \u001b[38;5;34m3,227,904\u001b[0m │\n",
       "├─────────────────────────────────┼────────────────────────┼───────────────┤\n",
       "│ dense_3 (\u001b[38;5;33mDense\u001b[0m)                 │ ?                      │   \u001b[38;5;34m0\u001b[0m (unbuilt) │\n",
       "└─────────────────────────────────┴────────────────────────┴───────────────┘\n"
      ]
     },
     "metadata": {},
     "output_type": "display_data"
    },
    {
     "data": {
      "text/html": [
       "<pre style=\"white-space:pre;overflow-x:auto;line-height:normal;font-family:Menlo,'DejaVu Sans Mono',consolas,'Courier New',monospace\"><span style=\"font-weight: bold\"> Total params: </span><span style=\"color: #00af00; text-decoration-color: #00af00\">3,247,296</span> (12.39 MB)\n",
       "</pre>\n"
      ],
      "text/plain": [
       "\u001b[1m Total params: \u001b[0m\u001b[38;5;34m3,247,296\u001b[0m (12.39 MB)\n"
      ]
     },
     "metadata": {},
     "output_type": "display_data"
    },
    {
     "data": {
      "text/html": [
       "<pre style=\"white-space:pre;overflow-x:auto;line-height:normal;font-family:Menlo,'DejaVu Sans Mono',consolas,'Courier New',monospace\"><span style=\"font-weight: bold\"> Trainable params: </span><span style=\"color: #00af00; text-decoration-color: #00af00\">3,227,904</span> (12.31 MB)\n",
       "</pre>\n"
      ],
      "text/plain": [
       "\u001b[1m Trainable params: \u001b[0m\u001b[38;5;34m3,227,904\u001b[0m (12.31 MB)\n"
      ]
     },
     "metadata": {},
     "output_type": "display_data"
    },
    {
     "data": {
      "text/html": [
       "<pre style=\"white-space:pre;overflow-x:auto;line-height:normal;font-family:Menlo,'DejaVu Sans Mono',consolas,'Courier New',monospace\"><span style=\"font-weight: bold\"> Non-trainable params: </span><span style=\"color: #00af00; text-decoration-color: #00af00\">19,392</span> (75.75 KB)\n",
       "</pre>\n"
      ],
      "text/plain": [
       "\u001b[1m Non-trainable params: \u001b[0m\u001b[38;5;34m19,392\u001b[0m (75.75 KB)\n"
      ]
     },
     "metadata": {},
     "output_type": "display_data"
    }
   ],
   "source": [
    "# Carrega o modelo pré-treinado\n",
    "modelo_base = load_model(MODELO_SALVO_ORIGINAL)\n",
    "\n",
    "# Cria um novo modelo com as camadas do modelo original, mas com a última camada modificada.\n",
    "new_model = Sequential()\n",
    "for layer in modelo_base.layers[:-1]: # Exclui a última camada\n",
    "    new_model.add(layer)\n",
    "\n",
    "# Adiciona uma nova camada de saída para regressão (2 neurônios para pitch e yaw)\n",
    "new_model.add(Dense(2, activation='linear'))\n",
    "\n",
    "# Congela as camadas convolucionais\n",
    "for layer in new_model.layers[:-2]:\n",
    "    layer.trainable = False\n",
    "\n",
    "# Recompila o modelo para a tarefa de regressão\n",
    "new_model.compile(optimizer=Adam(learning_rate=1e-5),\n",
    "                  loss='mean_squared_error',\n",
    "                  metrics=['mean_absolute_error']) # Métrica comum para regressão\n",
    "\n",
    "new_model.summary()"
   ]
  },
  {
   "cell_type": "code",
   "execution_count": 64,
   "id": "a00d2e7e",
   "metadata": {},
   "outputs": [
    {
     "name": "stdout",
     "output_type": "stream",
     "text": [
      "\n",
      "Iniciando o fine-tuning do modelo com o dataset MPIIGaze para regressão...\n",
      "Epoch 1/10\n",
      "\u001b[1m3819/3819\u001b[0m \u001b[32m━━━━━━━━━━━━━━━━━━━━\u001b[0m\u001b[37m\u001b[0m \u001b[1m537s\u001b[0m 140ms/step - loss: 0.1202 - mean_absolute_error: 0.1519 - val_loss: 0.0099 - val_mean_absolute_error: 0.0796\n",
      "Epoch 2/10\n",
      "\u001b[1m3819/3819\u001b[0m \u001b[32m━━━━━━━━━━━━━━━━━━━━\u001b[0m\u001b[37m\u001b[0m \u001b[1m535s\u001b[0m 140ms/step - loss: 0.0086 - mean_absolute_error: 0.0733 - val_loss: 0.0090 - val_mean_absolute_error: 0.0753\n",
      "Epoch 3/10\n",
      "\u001b[1m3819/3819\u001b[0m \u001b[32m━━━━━━━━━━━━━━━━━━━━\u001b[0m\u001b[37m\u001b[0m \u001b[1m568s\u001b[0m 149ms/step - loss: 0.0078 - mean_absolute_error: 0.0690 - val_loss: 0.0086 - val_mean_absolute_error: 0.0733\n",
      "Epoch 4/10\n",
      "\u001b[1m3819/3819\u001b[0m \u001b[32m━━━━━━━━━━━━━━━━━━━━\u001b[0m\u001b[37m\u001b[0m \u001b[1m550s\u001b[0m 144ms/step - loss: 0.0075 - mean_absolute_error: 0.0670 - val_loss: 0.0083 - val_mean_absolute_error: 0.0718\n",
      "Epoch 5/10\n",
      "\u001b[1m3819/3819\u001b[0m \u001b[32m━━━━━━━━━━━━━━━━━━━━\u001b[0m\u001b[37m\u001b[0m \u001b[1m535s\u001b[0m 140ms/step - loss: 0.0071 - mean_absolute_error: 0.0654 - val_loss: 0.0081 - val_mean_absolute_error: 0.0705\n",
      "Epoch 6/10\n",
      "\u001b[1m3819/3819\u001b[0m \u001b[32m━━━━━━━━━━━━━━━━━━━━\u001b[0m\u001b[37m\u001b[0m \u001b[1m537s\u001b[0m 141ms/step - loss: 0.0069 - mean_absolute_error: 0.0639 - val_loss: 0.0078 - val_mean_absolute_error: 0.0691\n",
      "Epoch 7/10\n",
      "\u001b[1m3819/3819\u001b[0m \u001b[32m━━━━━━━━━━━━━━━━━━━━\u001b[0m\u001b[37m\u001b[0m \u001b[1m540s\u001b[0m 141ms/step - loss: 0.0066 - mean_absolute_error: 0.0626 - val_loss: 0.0077 - val_mean_absolute_error: 0.0684\n",
      "Epoch 8/10\n",
      "\u001b[1m3819/3819\u001b[0m \u001b[32m━━━━━━━━━━━━━━━━━━━━\u001b[0m\u001b[37m\u001b[0m \u001b[1m541s\u001b[0m 141ms/step - loss: 0.0064 - mean_absolute_error: 0.0612 - val_loss: 0.0074 - val_mean_absolute_error: 0.0672\n",
      "Epoch 9/10\n",
      "\u001b[1m3819/3819\u001b[0m \u001b[32m━━━━━━━━━━━━━━━━━━━━\u001b[0m\u001b[37m\u001b[0m \u001b[1m543s\u001b[0m 142ms/step - loss: 0.0062 - mean_absolute_error: 0.0601 - val_loss: 0.0073 - val_mean_absolute_error: 0.0666\n",
      "Epoch 10/10\n",
      "\u001b[1m3819/3819\u001b[0m \u001b[32m━━━━━━━━━━━━━━━━━━━━\u001b[0m\u001b[37m\u001b[0m \u001b[1m549s\u001b[0m 144ms/step - loss: 0.0060 - mean_absolute_error: 0.0593 - val_loss: 0.0072 - val_mean_absolute_error: 0.0658\n",
      "Fine-tuning concluído!\n",
      "Modelo ajustado salvo.\n"
     ]
    }
   ],
   "source": [
    "print(\"\\nIniciando o fine-tuning do modelo com o dataset MPIIGaze para regressão...\")\n",
    "\n",
    "history_finetune = new_model.fit(\n",
    "    train_dataset,\n",
    "    epochs=10,\n",
    "    validation_data=val_dataset,\n",
    "    callbacks=[EarlyStopping(monitor='val_loss', patience=3, restore_best_weights=True)]\n",
    ")\n",
    "\n",
    "print(\"Fine-tuning concluído!\")\n",
    "\n",
    "# Salve o modelo\n",
    "new_model.save('..\\\\models\\\\gaze_attention_model_finetuned_regression.keras')\n",
    "print(\"Modelo ajustado salvo.\")"
   ]
  },
  {
   "cell_type": "code",
   "execution_count": 65,
   "id": "0beedb9b",
   "metadata": {},
   "outputs": [
    {
     "data": {
      "image/png": "[encoded data removed]",
      "text/plain": [
       "<Figure size 1200x500 with 2 Axes>"
      ]
     },
     "metadata": {},
     "output_type": "display_data"
    }
   ],
   "source": [
    "# Salve o histórico de treinamento em um arquivo JSON\n",
    "with open('training_history_finetune_regression.json', 'w') as f:\n",
    "    json.dump(history_finetune.history, f)\n",
    "\n",
    "# Carregue o histórico de treinamento\n",
    "with open('training_history_finetune_regression.json', 'r') as f:\n",
    "    history = json.load(f)\n",
    "\n",
    "# Obtenha os dados de perda e MAE\n",
    "loss = history['loss']\n",
    "val_loss = history['val_loss']\n",
    "mae = history['mean_absolute_error']\n",
    "val_mae = history['val_mean_absolute_error']\n",
    "epochs = range(1, len(loss) + 1)\n",
    "\n",
    "# Crie os subplots para os gráficos\n",
    "plt.figure(figsize=(12, 5))\n",
    "\n",
    "# Gráfico para a Perda (Loss)\n",
    "plt.subplot(1, 2, 1)\n",
    "plt.plot(epochs, loss, 'ro', label='Perda de Treino (Fine-tuning)')\n",
    "plt.plot(epochs, val_loss, 'r', label='Perda de Validação (Fine-tuning)')\n",
    "plt.title('Perda de Treino e Validação')\n",
    "plt.xlabel('Época')\n",
    "plt.ylabel('Perda (MSE)')\n",
    "plt.legend()\n",
    "plt.grid(True)\n",
    "\n",
    "# Gráfico para o Erro Médio Absoluto (MAE)\n",
    "plt.subplot(1, 2, 2)\n",
    "plt.plot(epochs, mae, 'bo', label='MAE de Treino')\n",
    "plt.plot(epochs, val_mae, 'b', label='MAE de Validação')\n",
    "plt.title('Erro Médio Absoluto (MAE)')\n",
    "plt.xlabel('Época')\n",
    "plt.ylabel('MAE')\n",
    "plt.legend()\n",
    "plt.grid(True)\n",
    "\n",
    "plt.tight_layout()\n",
    "plt.show()"
   ]
  }
 ],
 "metadata": {
  "kernelspec": {
   "display_name": "Python 3",
   "language": "python",
   "name": "python3"
  },
  "language_info": {
   "codemirror_mode": {
    "name": "ipython",
    "version": 3
   },
   "file_extension": ".py",
   "mimetype": "text/x-python",
   "name": "python",
   "nbconvert_exporter": "python",
   "pygments_lexer": "ipython3",
   "version": "3.12.11"
  }
 },
 "nbformat": 4,
 "nbformat_minor": 5
}
