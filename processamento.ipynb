{
 "cells": [
  {
   "cell_type": "markdown",
   "id": "3887e3df",
   "metadata": {},
   "source": [
    "## Importar as libs"
   ]
  },
  {
   "cell_type": "code",
   "execution_count": null,
   "id": "b6d278e7",
   "metadata": {},
   "outputs": [],
   "source": [
    "import os # \n",
    "import cv2\n",
    "import h5py\n",
    "import numpy as np\n",
    "import scipy.io\n",
    "import pandas as pd"
   ]
  },
  {
   "cell_type": "markdown",
   "id": "e0009216",
   "metadata": {},
   "source": [
    "## Obtenção de dados"
   ]
  },
  {
   "cell_type": "code",
   "execution_count": null,
   "id": "f7b670bb",
   "metadata": {},
   "outputs": [],
   "source": []
  }
 ],
 "metadata": {
  "kernelspec": {
   "display_name": "base",
   "language": "python",
   "name": "python3"
  },
  "language_info": {
   "codemirror_mode": {
    "name": "ipython",
    "version": 3
   },
   "file_extension": ".py",
   "mimetype": "text/x-python",
   "name": "python",
   "nbconvert_exporter": "python",
   "pygments_lexer": "ipython3",
   "version": "3.13.5"
  }
 },
 "nbformat": 4,
 "nbformat_minor": 5
}
